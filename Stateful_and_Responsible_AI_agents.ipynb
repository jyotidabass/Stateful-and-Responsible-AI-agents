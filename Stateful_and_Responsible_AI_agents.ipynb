{
  "nbformat": 4,
  "nbformat_minor": 0,
  "metadata": {
    "colab": {
      "provenance": [],
      "authorship_tag": "ABX9TyOJA61jOxZRP/IpH435wh/Y",
      "include_colab_link": true
    },
    "kernelspec": {
      "name": "python3",
      "display_name": "Python 3"
    },
    "language_info": {
      "name": "python"
    }
  },
  "cells": [
    {
      "cell_type": "markdown",
      "metadata": {
        "id": "view-in-github",
        "colab_type": "text"
      },
      "source": [
        "<a href=\"https://colab.research.google.com/github/jyotidabass/Stateful-and-Responsible-AI-agents/blob/main/Stateful_and_Responsible_AI_agents.ipynb\" target=\"_parent\"><img src=\"https://colab.research.google.com/assets/colab-badge.svg\" alt=\"Open In Colab\"/></a>"
      ]
    },
    {
      "cell_type": "markdown",
      "source": [
        "\n",
        "# *Here is a simple example of a stateful AI agent in Python, using the Session object from the tensorflow.keras.preprocessing.sequence module. *\n",
        "\n",
        "**This code defines a simple conversation flow that asks the user for their name and age, and then provides personalized responses based on the information provided. It uses a Session object to maintain the state of the conversation, allowing the agent to remember the user's name and age between interactions.**\n"
      ],
      "metadata": {
        "id": "lA1muLvM23Y1"
      }
    },
    {
      "cell_type": "code",
      "source": [
        "# Import necessary modules\n",
        "import tensorflow as tf\n",
        "\n",
        "# Define a class to maintain the state of the agent\n",
        "class Session:\n",
        "    def __init__(self):\n",
        "        self.tokens = []\n",
        "\n",
        "    def append(self, token):\n",
        "        self.tokens.append(token)\n",
        "\n",
        "    def __getitem__(self, index):\n",
        "        return self.tokens[index]\n",
        "\n",
        "# Define a function to maintain the state of the agent\n",
        "def maintain_state(session, user_input):\n",
        "    # Update the session with the user's input\n",
        "    session.append(user_input)\n",
        "\n",
        "# Define the conversation flow\n",
        "def conversation_flow():\n",
        "    # Create a new session\n",
        "    session = Session()\n",
        "\n",
        "    # Get the user's name\n",
        "    user_name = input(\"Hello! What is your name? \")\n",
        "\n",
        "    # Maintain the user name in the session\n",
        "    maintain_state(session, user_name)\n",
        "\n",
        "    # Ask a question based on the user's name\n",
        "    if \"John\" in user_name.lower():\n",
        "        print(\"Nice to meet you, John!\")\n",
        "    elif \"Jane\" in user_name.lower():\n",
        "        print(\"Hi, Jane!\")\n",
        "    else:\n",
        "        print(f\"Nice to meet you, {user_name}!\")\n",
        "\n",
        "    # Get the user's age\n",
        "    user_age = int(input(\"How old are you? \"))\n",
        "\n",
        "    # Maintain the user's age in the session\n",
        "    maintain_state(session, user_age)\n",
        "\n",
        "    # Provide a response based on the user's age\n",
        "    if user_age < 18:\n",
        "        print(\"You are a young person.\")\n",
        "    elif user_age >= 18 and user_age < 65:\n",
        "        print(\"You are an adult.\")\n",
        "    else:\n",
        "        print(\"You are a senior citizen.\")\n",
        "\n",
        "    # Provide a personalized response based on the session\n",
        "    if 'John' in session.tokens and session[-1] < 18:\n",
        "        print(\"It's great to meet you, John! You are a young person.\")\n",
        "    elif 'Jane' in session.tokens and session[-1] >= 65:\n",
        "        print(\"It's nice to meet you, Jane! You are a senior citizen.\")\n",
        "\n",
        "# Start the conversation\n",
        "conversation_flow()"
      ],
      "metadata": {
        "colab": {
          "base_uri": "https://localhost:8080/"
        },
        "id": "Inth2PLwz69e",
        "outputId": "ecbdbc5f-fda0-4a70-d75d-74291364ae4c"
      },
      "execution_count": 4,
      "outputs": [
        {
          "output_type": "stream",
          "name": "stdout",
          "text": [
            "Hello! What is your name? ABC\n",
            "Nice to meet you, ABC!\n",
            "How old are you? 22\n",
            "You are an adult.\n"
          ]
        }
      ]
    },
    {
      "cell_type": "markdown",
      "source": [
        "# Here's a simple example of a Responsible AI agent in Python, designed with ethical considerations in mind.\n",
        "\n",
        "**This code defines a simple Responsible AI agent that filters out inappropriate queries, provides personalized responses for specific user inputs, and generates generic responses for other queries. The generate_response() function is designed with ethical considerations in mind, ensuring that the agent does not generate harmful or inappropriate responses. The responsible_ai_conversation() function drives the conversation flow, and the input() function allows the user to interact with the AI agent.**"
      ],
      "metadata": {
        "id": "yZzaCLyz3SYv"
      }
    },
    {
      "cell_type": "code",
      "source": [
        "# Import necessary modules\n",
        "import random\n",
        "\n",
        "# Define a function to generate a random response\n",
        "def generate_response(query):\n",
        "    # Filter out inappropriate queries\n",
        "    if 'hate' in query.lower() or 'harm' in query.lower():\n",
        "        return \"I'm sorry, I cannot respond to that. Please ask a different question.\"\n",
        "\n",
        "    # Provide a personalized response\n",
        "    if 'name' in query.lower():\n",
        "        return f\"My name is Responsible AI Agent. How can I assist you today?\"\n",
        "\n",
        "    # Generate a generic response\n",
        "    response_options = [\n",
        "        \"I'm sorry, I don't have that information.\",\n",
        "        \"That is an interesting question. I'm not sure, but you might find the answer online.\",\n",
        "        \"I'm here to assist you. How can I help?\"\n",
        "    ]\n",
        "    return random.choice(response_options)\n",
        "\n",
        "# Define the conversation flow\n",
        "def responsible_ai_conversation():\n",
        "    user_input = input(\"You: \")\n",
        "\n",
        "    while user_input.lower() != 'bye':\n",
        "        # Check for inappropriate input and provide a responsible response\n",
        "        response = generate_response(user_input)\n",
        "        if response.startswith(\"I'm sorry\"):\n",
        "            print(\"AI Agent: \" + response)\n",
        "        else:\n",
        "            print(\"AI Agent: \" + response)\n",
        "            user_input = input(\"You: \")\n",
        "\n",
        "    print(\"AI Agent: Thank you for conversing with me. Goodbye!\")\n",
        "\n",
        "# Start the conversation\n",
        "responsible_ai_conversation()"
      ],
      "metadata": {
        "colab": {
          "base_uri": "https://localhost:8080/"
        },
        "id": "1iC437Ib06Ww",
        "outputId": "4ab2f745-4276-46f9-d3b1-e6bed8da36ec"
      },
      "execution_count": 13,
      "outputs": [
        {
          "output_type": "stream",
          "name": "stdout",
          "text": [
            "You: where are my books\n",
            "AI Agent: I'm sorry, I don't have that information.\n",
            "AI Agent: I'm here to assist you. How can I help?\n",
            "You: bye\n",
            "AI Agent: Thank you for conversing with me. Goodbye!\n"
          ]
        }
      ]
    }
  ]
}